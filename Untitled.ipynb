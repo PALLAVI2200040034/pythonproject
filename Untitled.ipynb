{
 "cells": [
  {
   "cell_type": "markdown",
   "id": "653ed706-94a7-48a4-b584-661020979744",
   "metadata": {},
   "source": [
    "Question 1 - Extracting Tesla Stock Data Using yfinance"
   ]
  },
  {
   "cell_type": "code",
   "execution_count": 1,
   "id": "73e11259-4cda-4b6f-8c73-0dfa6b7cb81a",
   "metadata": {
    "tags": []
   },
   "outputs": [
    {
     "name": "stdout",
     "output_type": "stream",
     "text": [
      "                               Open      High       Low     Close     Volume  \\\n",
      "Date                                                                           \n",
      "2010-06-29 00:00:00-04:00  1.266667  1.666667  1.169333  1.592667  281494500   \n",
      "2010-06-30 00:00:00-04:00  1.719333  2.028000  1.553333  1.588667  257806500   \n",
      "2010-07-01 00:00:00-04:00  1.666667  1.728000  1.351333  1.464000  123282000   \n",
      "2010-07-02 00:00:00-04:00  1.533333  1.540000  1.247333  1.280000   77097000   \n",
      "2010-07-06 00:00:00-04:00  1.333333  1.333333  1.055333  1.074000  103003500   \n",
      "\n",
      "                           Dividends  Stock Splits  \n",
      "Date                                                \n",
      "2010-06-29 00:00:00-04:00        0.0           0.0  \n",
      "2010-06-30 00:00:00-04:00        0.0           0.0  \n",
      "2010-07-01 00:00:00-04:00        0.0           0.0  \n",
      "2010-07-02 00:00:00-04:00        0.0           0.0  \n",
      "2010-07-06 00:00:00-04:00        0.0           0.0  \n"
     ]
    }
   ],
   "source": [
    "import yfinance as yf\n",
    "\n",
    "# Extract Tesla stock data\n",
    "tesla_stock = yf.Ticker(\"TSLA\")\n",
    "tesla_stock_data = tesla_stock.history(period=\"max\")\n",
    "print(tesla_stock_data.head())\n"
   ]
  },
  {
   "cell_type": "markdown",
   "id": "4cbccdf1-b075-40a9-857d-aa14431c2734",
   "metadata": {},
   "source": [
    "Question 2 - Extracting Tesla Revenue Data Using Webscraping"
   ]
  },
  {
   "cell_type": "code",
   "execution_count": 5,
   "id": "ff70161e-aa15-41b5-8cc2-a20941fae3ae",
   "metadata": {
    "tags": []
   },
   "outputs": [
    {
     "name": "stdout",
     "output_type": "stream",
     "text": [
      "Unable to find financials section.\n"
     ]
    }
   ],
   "source": [
    "import requests\n",
    "from bs4 import BeautifulSoup\n",
    "\n",
    "# Define the URL for Tesla's financials on Yahoo Finance\n",
    "tesla_financials_url = \"https://finance.yahoo.com/quote/TSLA/financials?p=TSLA\"\n",
    "\n",
    "# Send a GET request to the URL\n",
    "response = requests.get(tesla_financials_url)\n",
    "\n",
    "# Parse the HTML content with BeautifulSoup\n",
    "soup = BeautifulSoup(response.text, 'html.parser')\n",
    "\n",
    "# Find the section containing financial information\n",
    "financials_section = soup.find(\"section\", {\"data-test\": \"qsp-financial\"})\n",
    "\n",
    "# Check if the financials section is found\n",
    "if financials_section:\n",
    "    # Find the revenue element within the financials section\n",
    "    revenue_element = financials_section.find(\"span\", text=\"Total Revenue\")\n",
    "    \n",
    "    # Check if the revenue element is found\n",
    "    if revenue_element:\n",
    "        tesla_revenue = revenue_element.find_next(\"span\", {\"data-reactid\": True}).text\n",
    "        print(\"Tesla Revenue:\", tesla_revenue)\n",
    "    else:\n",
    "        print(\"Unable to find Total Revenue information.\")\n",
    "else:\n",
    "    print(\"Unable to find financials section.\")\n",
    "\n"
   ]
  },
  {
   "cell_type": "markdown",
   "id": "5e444fd2-5def-44d9-8e67-20f973ce90d0",
   "metadata": {},
   "source": [
    "Question 3 - Extracting GameStop Stock Data Using yfinance\n"
   ]
  },
  {
   "cell_type": "code",
   "execution_count": null,
   "id": "936444c3-5d02-4df1-8085-04c69aaf88e9",
   "metadata": {},
   "outputs": [],
   "source": [
    "# Extract GameStop stock data\n",
    "gamestop_stock = yf.Ticker(\"GME\")\n",
    "gamestop_stock_data = gamestop_stock.history(period=\"max\")\n",
    "print(gamestop_stock_data.head())\n"
   ]
  },
  {
   "cell_type": "markdown",
   "id": "ffbd011e-d2c2-4748-9196-14179d8f7011",
   "metadata": {
    "tags": []
   },
   "source": [
    "Question 4 - Extracting GameStop Revenue Data Using Webscraping"
   ]
  },
  {
   "cell_type": "code",
   "execution_count": null,
   "id": "2acb2480-1844-4fa8-a10b-fdadf15d75c9",
   "metadata": {},
   "outputs": [],
   "source": [
    "import requests\n",
    "from bs4 import BeautifulSoup\n",
    "\n",
    "# Define the URL for GameStop's financials on Yahoo Finance\n",
    "gamestop_financials_url = \"https://finance.yahoo.com/quote/GME/financials?p=GME\"\n",
    "\n",
    "# Send a GET request to the URL\n",
    "response = requests.get(gamestop_financials_url)\n",
    "\n",
    "# Parse the HTML content with BeautifulSoup\n",
    "soup = BeautifulSoup(response.text, 'html.parser')\n",
    "\n",
    "# Find the revenue element on the page (this may vary based on the page structure)\n",
    "revenue_element = soup.find(\"span\", text=\"Total Revenue\")\n",
    "\n",
    "# Extract the revenue value\n",
    "gamestop_revenue = revenue_element.find_next(\"span\").text\n",
    "print(\"GameStop Revenue:\", gamestop_revenue)\n"
   ]
  },
  {
   "cell_type": "code",
   "execution_count": null,
   "id": "dea9cc41-a126-4e94-8dc4-4fcd2d74efaf",
   "metadata": {},
   "outputs": [],
   "source": [
    "Question 5 - Tesla Stock and Revenue Dashboard\n"
   ]
  },
  {
   "cell_type": "code",
   "execution_count": null,
   "id": "5ea4097e-c736-41d2-a423-8a1f0d2ea51a",
   "metadata": {},
   "outputs": [],
   "source": [
    "import dash\n",
    "import dash_core_components as dcc\n",
    "import dash_html_components as html\n",
    "\n",
    "app = dash.Dash(__name__)\n",
    "\n",
    "# Include charts or graphs for Tesla stock and revenue data\n",
    "\n",
    "if __name__ == '__main__':\n",
    "    app.run_server(debug=True)"
   ]
  },
  {
   "cell_type": "code",
   "execution_count": null,
   "id": "8825a6fd-578a-4788-a4ae-a2774ce15e62",
   "metadata": {},
   "outputs": [],
   "source": [
    "Question 6 - GameStop Stock and Revenue Dashboard"
   ]
  },
  {
   "cell_type": "code",
   "execution_count": null,
   "id": "f93a6095-0f9a-4e76-9c86-f6985c967da6",
   "metadata": {},
   "outputs": [],
   "source": [
    "import dash\n",
    "import dash_core_components as dcc\n",
    "import dash_html_components as html\n",
    "\n",
    "app = dash.Dash(__name__)\n",
    "\n",
    "# Include charts or graphs for Tesla stock and revenue data\n",
    "\n",
    "if __name__ == '__main__':\n",
    "    app.run_server(debug=True)"
   ]
  },
  {
   "cell_type": "code",
   "execution_count": 15,
   "id": "17ae3a08-5318-4078-b585-de2060a643a9",
   "metadata": {
    "tags": []
   },
   "outputs": [],
   "source": [
    "url = \"https://cf-courses-data.s3.us.cloud-object-storage.appdomain.cloud/IBMDeveloperSkillsNetwork-PY0220EN-SkillsNetwork/labs/project/stock.html\"\n",
    "html_data  = requests.get(url).text\n"
   ]
  },
  {
   "cell_type": "code",
   "execution_count": 16,
   "id": "ec07b1d9-5727-45f4-b009-678df3b0edb0",
   "metadata": {
    "tags": []
   },
   "outputs": [],
   "source": [
    "soup = BeautifulSoup(html_data, 'html5lib')\n"
   ]
  },
  {
   "cell_type": "code",
   "execution_count": null,
   "id": "c930d301-d639-4120-8489-89f55860d466",
   "metadata": {},
   "outputs": [],
   "source": [
    "gme_revenue = pd.read_html(html_data, match=\"GameStop Quarterly Revenue\")[0]\n",
    "gme_revenue.rename(inplace=True, columns={\"GameStop Quarterly Revenue(Millions of US $)\": \"Date\", \"GameStop Quarterly Revenue(Millions of US $).1\": \"Revenue\"})\n",
    "gme_revenue[\"Revenue\"] = gme_revenue['Revenue'].str.replace(',|\\$',\"\",regex=True)\n",
    "gme_revenue.dropna(inplace=True)\n",
    "gme_revenue = gme_revenue[gme_revenue['Revenue'] != \"\"]"
   ]
  },
  {
   "cell_type": "code",
   "execution_count": null,
   "id": "8d6ced79-47be-4375-945c-8b91e0194525",
   "metadata": {},
   "outputs": [],
   "source": [
    "gme_revenue.tail()\n"
   ]
  },
  {
   "cell_type": "code",
   "execution_count": null,
   "id": "4e41f373-9e2e-40fe-887e-8a6f8c712239",
   "metadata": {},
   "outputs": [],
   "source": [
    "make_graph(tesla_data, tesla_revenue, \"Tesla\")\n"
   ]
  },
  {
   "cell_type": "code",
   "execution_count": null,
   "id": "764ffc8b-9385-4290-baf0-f4dd5b704883",
   "metadata": {},
   "outputs": [],
   "source": [
    "make_graph(gme_data, gme_revenue, \"GameStop\")\n"
   ]
  }
 ],
 "metadata": {
  "kernelspec": {
   "display_name": "Python",
   "language": "python",
   "name": "conda-env-python-py"
  },
  "language_info": {
   "codemirror_mode": {
    "name": "ipython",
    "version": 3
   },
   "file_extension": ".py",
   "mimetype": "text/x-python",
   "name": "python",
   "nbconvert_exporter": "python",
   "pygments_lexer": "ipython3",
   "version": "3.7.12"
  }
 },
 "nbformat": 4,
 "nbformat_minor": 5
}
